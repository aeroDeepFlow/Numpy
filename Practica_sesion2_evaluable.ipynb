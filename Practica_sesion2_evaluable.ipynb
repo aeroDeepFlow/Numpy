{
 "cells": [
  {
   "cell_type": "markdown",
   "metadata": {},
   "source": [
    "# Práctica 1\n",
    "**Alumno/a**:  "
   ]
  },
  {
   "cell_type": "markdown",
   "metadata": {},
   "source": [
    "En está práctica desarrollaremos un método de análisis para eventos de motorsport, el proposito será analizar los tiempos de los pilotos durante las carreras y otros sucesos.\n",
    "\n",
    "Para ello debemos tener en cuenta que cada circuito se encuentra dividido en tres sectores, el tiempo por vuelta se encuentra dividido a su vez en tres tramos, cada uno correspondiente a cada uno de los sectores. La duración de la carrera se establece en 20 vueltas, por lo que dispondremos de registros de tiempo referentes a 60 tramos.\n",
    "\n",
    "Para la práctica se proporcionan varias bases de datos que contienen los registros de tiempo de paso por tramo de cada piloto durante cada carrera, para poder llevar a cabo la práctica se transformará dicha base de datos en otra tabla que nos proporcionará el gap o las diferencias de tiempo entre cada tramo.\n",
    "\n",
    "**Tabla Resumen**:\n",
    "\n",
    "* 1 Circuito\n",
    "* 3 Sectores\n",
    "* 20 Vueltas de carrera\n",
    "*  60 Tramos\n",
    "\n",
    "**Material Proporcionado**:\n",
    "\n",
    "* Varios archivos en formato CSV con marcas temporales de cada paso por los puntos de control de cada tramo.\n",
    "* Archivo TESTS.ipynb, para realizar tests a las funciones a implementar. Dicho archivo incluye, además, una función para realizar la carga de datos y transformarla a diferencia de tiempos, en formato timedelta en milisegundos,  entre un punto de control y el siguiente. Este archivo está proporcionado para servir de apoyo en el desarrollo de la práctica, no siendo necesario su entrega.\n",
    "* Una función para pintar una diferencia de tiempos (timedelta) en formato \"00:00:00.0000\".\n",
    "\n",
    "**Método de evaluación**\n",
    "\n",
    "Cada una de las funciones implementada correctamente se valorará con un máximo de 2 puntos."
   ]
  },
  {
   "cell_type": "code",
   "execution_count": 94,
   "metadata": {},
   "outputs": [],
   "source": [
    "import numpy as np\n",
    "from pprint import pprint\n",
    "import datetime"
   ]
  },
  {
   "cell_type": "code",
   "execution_count": null,
   "metadata": {},
   "outputs": [],
   "source": [
    "def tiempo_vuelta(tramos):\n",
    "    \"\"\"\n",
    "    Calcula la suma de tiempos por tramo para cada vuelta.\n",
    "        \n",
    "    Recibe:\n",
    "        Numpy array con los timedeltas de cada sector de cada vuelta de cada corredor\n",
    "        \n",
    "    Devuelve:\n",
    "        Numpy array con los timedeltas de cada vuelta de cada corredor\n",
    "    \"\"\"\n",
    "        ### INSERTAR AQUÍ EL CÓDIGO DE LA FUNCIÓN\n",
    "        \n",
    "    # Se crea matriz vacía con el mismo número de filas que el array tramos    \n",
    "    A = np.empty((tramos.shape[0], 0), dtype='timedelta64[ms]')\n",
    "    \n",
    "    # Se genera de forma iterativa 20 matrices con un número de filas igual al de la matriz de entrada tramos \n",
    "    # y tres columnas donde cada columna representa un tramo.\n",
    "    # Se genera matriz A con las matrices generadas iterativamente que resultan de la suma de cada una de las\n",
    "    # tres columnas por cada una de las filas\n",
    "    for m in np.hsplit(tramos, 20):\n",
    "        A = np.c_[A, np.sum(m, axis=1, keepdims=True)]\n",
    "    \n",
    "    return A"
   ]
  },
  {
   "cell_type": "code",
   "execution_count": null,
   "metadata": {},
   "outputs": [],
   "source": [
    "def vuelta_rapida(tramos):\n",
    "    \"\"\"\n",
    "    Calcula el tiempo más bajo en que se ha completado una vuelta durante la carrera.\n",
    "    \n",
    "    Se entiende como tiempo de una vuelta la suma de los tiempos de los tres sectores que la componen.\n",
    "    \n",
    "    La función devuelve el tiempo más bajo independientemente del conductor que la ha conseguido y de la \n",
    "    vuelta en que se ha producido.\n",
    "    \n",
    "    Recibe:\n",
    "        Numpy array con los timedeltas de cada sector de cada vuelta de cada corredor\n",
    "        \n",
    "    Devuelve: \n",
    "        Timedelta de la vuelta más rápida\n",
    "    \"\"\"\n",
    "    ### INSERTAR AQUÍ EL CÓDIGO DE LA FUNCIÓN\n",
    "    from pylab import rcParams\n",
    "rcParams['figure.figsize'] = 11, 9\n",
    "    # Se hace uso de la función **tiempo_vuelta** anterior y se extrae el mínimo\n",
    "    return np.min(tiempo_vuelta(tramos))\n"
   ]
  },
  {
   "cell_type": "code",
   "execution_count": null,
   "metadata": {},
   "outputs": [],
   "source": [
    "def sectores_rapidos(tramos):\n",
    "    \"\"\"\n",
    "    Calcula los tiempos más bajos en los que se ha completado cada sector, independientemente del conductor que \n",
    "    lo ha conseguido y de la vuelta en que lo ha realizado.\n",
    "    \n",
    "    Recibe:\n",
    "        Numpy array con los timedeltas de cada sector de cada vuelta de cada corredor\n",
    "        \n",
    "    Devuelve:\n",
    "        Numpy array con tres valores, los timestamps más bajo de cada uno de los sectores\n",
    "    \n",
    "    \n",
    "    \"\"\"\n",
    "    ### INSERTAR AQUÍ EL CÓDIGO DE LA FUNCIÓN\n",
    "    \n",
    "    # Se generan de forma iterativa las matrices correspondientes a cada uno de los tres tramos.\n",
    "    # Por cada una de ellas se calcula el mínimo.\n",
    "    return [np.min(tramos[:, range(k, 60, 3)]) for k in [0, 1, 2]]\n"
   ]
  },
  {
   "cell_type": "code",
   "execution_count": null,
   "metadata": {},
   "outputs": [],
   "source": [
    "def media_tiempo_sector(tramos):\n",
    "    \"\"\"\n",
    "    Calcula el tiempo medio de cada tramo. Para su cálculo se tienen en cuenta TODOS los tiempos de TODOS los \n",
    "    corredores en ese sector para TODAS las vueltas.\n",
    "    \n",
    "    Para este cálculo NO se tienen en cuenta a los corredores que han tenido abandono, ni tan siquiera \n",
    "    Los tramos donde todavía participaban en la carrera.\n",
    "    \n",
    "    Recibe:\n",
    "        Numpy array con los timedeltas de cada sector de cada vuelta de cada corredor\n",
    "    \n",
    "    Devuelve:\n",
    "        Numpy array con tres valores: los timestamps con los tiempos medios de cada uno de los tramos\n",
    "        \n",
    "    \"\"\"\n",
    "    ### INSERTAR AQUÍ EL CÓDIGO DE LA FUNCIÓN\n",
    "    \n",
    "    # Se eliminan corredores que han tenido abandono y tramos donde participan\n",
    "    tramos = del_nans(tramos)\n",
    "    \n",
    "    # Se generan de forma iterativa las matrices correspondientes a cada uno de los tres tramos.\n",
    "    # Por cada una de ellas se calcula la media.\n",
    "    return [np.mean(tramos[:, range(k, 60, 3)]) for k in [0, 1, 2]]\n"
   ]
  },
  {
   "cell_type": "code",
   "execution_count": null,
   "metadata": {},
   "outputs": [],
   "source": [
    "def abandonos_por_sector(tramos):\n",
    "    \"\"\"\n",
    "    Calcula el número de abandonos por sector \n",
    "    \n",
    "    Recibe:\n",
    "        Numpy array con los timedeltas de cada sector de cada vuelta de cada corredor\n",
    "    \n",
    "    Devuelve:\n",
    "        Diccionario con el número de sector como clave y el número de abanonos en ese sector como valor\n",
    "    \n",
    "    \"\"\"\n",
    "    \n",
    "    ### INSERTAR AQUÍ EL CÓDIGO DE LA FUNCIÓN\n",
    "    \n",
    "    sect1, sect2, sect3 = 0, 0, 0\n",
    "\n",
    "    # Iterando en cada uno de los pilotos, se calculo, de haberlo, la posición (índice) del primer **Nat**\n",
    "    # Posteriormente se hace el mapeo entre primer índice con **Nat** y el sector donde se encuentra a través\n",
    "    # de los índices de la matriz\n",
    "    for row in tramos:\n",
    "        w = np.where(np.isnat(row))[0]\n",
    "        if w.size > 0:\n",
    "            val = np.min(w) \n",
    "            if val in range(0, 60, 3):\n",
    "                sect1 += 1\n",
    "            if val in range(1, 60, 3):\n",
    "                sect2 += 1\n",
    "            if val in range(2, 60, 3):\n",
    "                sect3 += 1\n",
    "    \n",
    "    \n",
    "    return {1: sect1, 2: sect2, 3: sect3}\n",
    "    "
   ]
  },
  {
   "cell_type": "code",
   "execution_count": null,
   "metadata": {},
   "outputs": [],
   "source": []
  }
 ],
 "metadata": {
  "kernelspec": {
   "display_name": "Python 3",
   "language": "python",
   "name": "python3"
  },
  "language_info": {
   "codemirror_mode": {
    "name": "ipython",
    "version": 3
   },
   "file_extension": ".py",
   "mimetype": "text/x-python",
   "name": "python",
   "nbconvert_exporter": "python",
   "pygments_lexer": "ipython3",
   "version": "3.7.5"
  }
 },
 "nbformat": 4,
 "nbformat_minor": 2
}
