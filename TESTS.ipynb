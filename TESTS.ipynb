{
 "cells": [
  {
   "cell_type": "code",
   "execution_count": 1,
   "metadata": {},
   "outputs": [],
   "source": [
    "import numpy as np"
   ]
  },
  {
   "cell_type": "code",
   "execution_count": 1,
   "metadata": {},
   "outputs": [
    {
     "ename": "SyntaxError",
     "evalue": "invalid syntax (<ipython-input-1-40a997c4fa64>, line 2)",
     "output_type": "error",
     "traceback": [
      "\u001b[0;36m  File \u001b[0;32m\"<ipython-input-1-40a997c4fa64>\"\u001b[0;36m, line \u001b[0;32m2\u001b[0m\n\u001b[0;31m    run $func_file\u001b[0m\n\u001b[0m        ^\u001b[0m\n\u001b[0;31mSyntaxError\u001b[0m\u001b[0;31m:\u001b[0m invalid syntax\n"
     ]
    }
   ],
   "source": [
    "func_file = \"Practica_sesion2_evaluable_solucion.ipynb\"\n",
    "%run $func_file"
   ]
  },
  {
   "cell_type": "code",
   "execution_count": 6,
   "metadata": {},
   "outputs": [],
   "source": [
    "def prettyprint(delta):\n",
    "    \"\"\"\n",
    "    Función para pintar timedelta en formato HH:mm:ss.mmm\n",
    "    \"\"\"\n",
    "    return (str(delta.astype(\"datetime64\")).split(\"T\")[-1]) "
   ]
  },
  {
   "cell_type": "code",
   "execution_count": 7,
   "metadata": {},
   "outputs": [],
   "source": [
    "def del_nans(sectores):\n",
    "    \"\"\"\n",
    "    Elimina filas con nans\n",
    "    \n",
    "     Recibe:\n",
    "         numpy array con los sectores\n",
    "        \n",
    "     Devuelve:\n",
    "         numpy array con sectores sin nans\n",
    "         np.isnat(sec).any(axis=1)\n",
    "    \"\"\"\n",
    "\n",
    "    return sectores[~np.isnat(sectores).any(axis=1) ]"
   ]
  },
  {
   "cell_type": "code",
   "execution_count": 8,
   "metadata": {},
   "outputs": [],
   "source": [
    "def cargar_datos(archivo, columnas):\n",
    "    \"\"\"\n",
    "    Carga los datos de un circuito. \n",
    "    \n",
    "    Recibe:\n",
    "        nombre del archivo (str)\n",
    "        \n",
    "    Devuelve:\n",
    "        numpy array con los timedeltas de cada sector de cada vuelta de cada corredor\n",
    "    \n",
    "    \"\"\"\n",
    "    \n",
    "    #Cargar los datos del circuito en formato datetime (marcas temporales)\n",
    "    circuito = np.loadtxt(archivo, dtype=\"datetime64\", delimiter=\"|\", skiprows=(1), \n",
    "                         usecols=columnas)   \n",
    "    \n",
    "    #Transformación de marcas temporales a diferencias de tiempo (timedelta)\n",
    "    tramos = np.array([[corredor[indice + 1] - corredor[indice] \n",
    "                        if not np.isnat(corredor[indice+1]) else np.timedelta64(\"NaT\") \n",
    "                    for indice,tramo in enumerate(corredor[:-1])] \n",
    "                       for corredor in circuito], dtype=np.dtype('timedelta64[ms]')\n",
    "                     )\n",
    "    \n",
    "    return tramos"
   ]
  },
  {
   "cell_type": "code",
   "execution_count": 9,
   "metadata": {},
   "outputs": [],
   "source": [
    "# Carga de datos\n",
    "cols = tuple(range(3,64))    #Seleccionar las columnas con los datetime del archivo CSV\n",
    "corredores = cargar_datos(\"circuitoGranPremioF1.csv\", cols)\n",
    "\n"
   ]
  },
  {
   "cell_type": "code",
   "execution_count": 12,
   "metadata": {},
   "outputs": [
    {
     "data": {
      "text/plain": [
       "(array([[27895, 34011, 34801, ..., 23307, 35042, 28390],\n",
       "        [30507, 35570, 28811, ..., 36542, 22847, 30113],\n",
       "        [27129, 26846, 27803, ..., 20923, 32071, 24052],\n",
       "        ...,\n",
       "        [21399, 32493, 35794, ..., 24748, 22832, 24853],\n",
       "        [26276, 26359, 33263, ..., 25956, 26984, 31926],\n",
       "        [25143, 32547, 25435, ..., 25090, 22204, 26552]],\n",
       "       dtype='timedelta64[ms]'), (31, 60))"
      ]
     },
     "execution_count": 12,
     "metadata": {},
     "output_type": "execute_result"
    }
   ],
   "source": [
    "corredores, corredores.shape"
   ]
  },
  {
   "cell_type": "code",
   "execution_count": 11,
   "metadata": {},
   "outputs": [
    {
     "name": "stderr",
     "output_type": "stream",
     "text": [
      "ERROR:root:File `'Practica_sesion2_evaluable_solucion.ipynb.py'` not found.\n"
     ]
    },
    {
     "ename": "NameError",
     "evalue": "name 'tiempo_vuelta' is not defined",
     "output_type": "error",
     "traceback": [
      "\u001b[0;31m---------------------------------------------------------------------------\u001b[0m",
      "\u001b[0;31mNameError\u001b[0m                                 Traceback (most recent call last)",
      "\u001b[0;32m<ipython-input-11-03641f1648c1>\u001b[0m in \u001b[0;36m<module>\u001b[0;34m\u001b[0m\n\u001b[1;32m     22\u001b[0m     \u001b[0mprint\u001b[0m\u001b[0;34m(\u001b[0m\u001b[0;34m\"Test tiempo por vuelta pasado\"\u001b[0m\u001b[0;34m)\u001b[0m\u001b[0;34m\u001b[0m\u001b[0;34m\u001b[0m\u001b[0m\n\u001b[1;32m     23\u001b[0m \u001b[0;34m\u001b[0m\u001b[0m\n\u001b[0;32m---> 24\u001b[0;31m \u001b[0mtest_tiempo_vuelta\u001b[0m\u001b[0;34m(\u001b[0m\u001b[0;34m)\u001b[0m\u001b[0;34m\u001b[0m\u001b[0;34m\u001b[0m\u001b[0m\n\u001b[0m",
      "\u001b[0;32m<ipython-input-11-03641f1648c1>\u001b[0m in \u001b[0;36mtest_tiempo_vuelta\u001b[0;34m()\u001b[0m\n\u001b[1;32m      1\u001b[0m \u001b[0mget_ipython\u001b[0m\u001b[0;34m(\u001b[0m\u001b[0;34m)\u001b[0m\u001b[0;34m.\u001b[0m\u001b[0mrun_line_magic\u001b[0m\u001b[0;34m(\u001b[0m\u001b[0;34m'run'\u001b[0m\u001b[0;34m,\u001b[0m \u001b[0;34m'$func_file'\u001b[0m\u001b[0;34m)\u001b[0m\u001b[0;34m\u001b[0m\u001b[0;34m\u001b[0m\u001b[0m\n\u001b[1;32m      2\u001b[0m \u001b[0;32mdef\u001b[0m \u001b[0mtest_tiempo_vuelta\u001b[0m\u001b[0;34m(\u001b[0m\u001b[0;34m)\u001b[0m\u001b[0;34m:\u001b[0m\u001b[0;34m\u001b[0m\u001b[0;34m\u001b[0m\u001b[0m\n\u001b[0;32m----> 3\u001b[0;31m     \u001b[0mtiempos\u001b[0m \u001b[0;34m=\u001b[0m \u001b[0mtiempo_vuelta\u001b[0m\u001b[0;34m(\u001b[0m\u001b[0mcorredores\u001b[0m\u001b[0;34m)\u001b[0m\u001b[0;34m\u001b[0m\u001b[0;34m\u001b[0m\u001b[0m\n\u001b[0m\u001b[1;32m      4\u001b[0m \u001b[0;31m#     print(prettyprint(tiempos[0,0]))\u001b[0m\u001b[0;34m\u001b[0m\u001b[0;34m\u001b[0m\u001b[0;34m\u001b[0m\u001b[0m\n\u001b[1;32m      5\u001b[0m \u001b[0;31m#     print(tiempos)\u001b[0m\u001b[0;34m\u001b[0m\u001b[0;34m\u001b[0m\u001b[0;34m\u001b[0m\u001b[0m\n",
      "\u001b[0;31mNameError\u001b[0m: name 'tiempo_vuelta' is not defined"
     ]
    }
   ],
   "source": [
    "%run $func_file\n",
    "def test_tiempo_vuelta():\n",
    "    tiempos = tiempo_vuelta(corredores)\n",
    "#     print(prettyprint(tiempos[0,0]))\n",
    "#     print(tiempos)\n",
    "        \n",
    "#     print(times)\n",
    "#   [0 1 2] [3 4 5] [6 7 8] [9 10 11] [12 13 14] [15 16 17] [18 19 20] [21 22 23] [24 25 26]\n",
    "    #Driver 1, lap 1\n",
    "#     print(prettyprint(drivers[0,0])) #00:00:27.895\n",
    "#     print(prettyprint(drivers[0,1])) #00:00:34.011\n",
    "#     print(prettyprint(drivers[0,2])) #00:00:34.801\n",
    "    \n",
    "    assert prettyprint(tiempos [0, 0]) == \"00:01:36.707\"\n",
    "    \n",
    "    #Driver 6, lap 9\n",
    "#     print(prettyprint(drivers[5,24])) #00:00:30.136\n",
    "#     print(prettyprint(drivers[5,25])) #00:00:23.422\n",
    "#     print(prettyprint(drivers[5,26])) #00:00:22.149\n",
    "    \n",
    "    assert prettyprint(tiempos [5, 9]) == \"00:01:15.850\"\n",
    "    print(\"Test tiempo por vuelta pasado\")\n",
    "    \n",
    "test_tiempo_vuelta()\n"
   ]
  },
  {
   "cell_type": "code",
   "execution_count": 29,
   "metadata": {},
   "outputs": [
    {
     "name": "stdout",
     "output_type": "stream",
     "text": [
      "Test vuelta rápida pasado\n"
     ]
    }
   ],
   "source": [
    "%run $func_file\n",
    "def test_vuelta_rapida():\n",
    "    assert prettyprint(vuelta_rapida(corredores)) == \"00:01:03.157\"\n",
    "    print(\"Test vuelta rápida pasado\")\n",
    "    \n",
    "test_vuelta_rapida()\n"
   ]
  },
  {
   "cell_type": "code",
   "execution_count": 28,
   "metadata": {},
   "outputs": [
    {
     "name": "stdout",
     "output_type": "stream",
     "text": [
      "Test sectores rapidos pasado\n"
     ]
    }
   ],
   "source": [
    "%run $func_file\n",
    "def test_sectores_rapidos():\n",
    "    expected = [\"00:00:20.774\", \"00:00:20.746\", \"00:00:20.722\"]\n",
    "    sectores = sectores_rapidos(del_nans(corredores))\n",
    "    test_pasados = True\n",
    "    for index, sector in enumerate(sectores):\n",
    "        try:\n",
    "            assert prettyprint(sector) == expected[index]\n",
    "        except AssertionError:\n",
    "            print(\"Error en test %i: Esperado: %s, recibido: %s\" % (index, expected[index], prettyprint(sector)))\n",
    "            test_pasados = False\n",
    "            \n",
    "    if test_pasados:\n",
    "        print(\"Test sectores rapidos pasado\")\n",
    "        \n",
    "    \n",
    "test_sectores_rapidos()"
   ]
  },
  {
   "cell_type": "code",
   "execution_count": 34,
   "metadata": {},
   "outputs": [
    {
     "name": "stdout",
     "output_type": "stream",
     "text": [
      "Test sectores rapidos pasado\n"
     ]
    }
   ],
   "source": [
    "%run $func_file\n",
    "def test_media_tiempo_sector():\n",
    "    expected = [\"00:00:28.537\", \"00:00:28.493\", \"00:00:28.615\"]\n",
    "    medias = media_tiempo_sector(del_nans(corredores))\n",
    "    test_pasados = True\n",
    "    for index, media in enumerate(medias):\n",
    "        try:\n",
    "            assert prettyprint(media) == expected[index]\n",
    "        except AssertionError: \n",
    "            print(\"Error en test %i: Esperado: %s, recibido: %s\" % (index, expected[index], prettyprint(media)))\n",
    "            test_pasados = False\n",
    "            \n",
    "    if test_pasados:\n",
    "        print(\"Test sectores rapidos pasado\")\n",
    "        \n",
    "test_media_tiempo_sector()"
   ]
  },
  {
   "cell_type": "code",
   "execution_count": 27,
   "metadata": {},
   "outputs": [
    {
     "name": "stdout",
     "output_type": "stream",
     "text": [
      "Test sector_mas_abandonos pasado\n"
     ]
    }
   ],
   "source": [
    "%run $func_file\n",
    "def test_abandonos_por_sector():\n",
    "    \n",
    "    expected = {1: 2, 2: 2, 3: 0}\n",
    "    \n",
    "    abandonos = abandonos_por_sector(corredores)\n",
    "        \n",
    "    assert abandonos == expected \n",
    "    print(\"Test sector_mas_abandonos pasado\")\n",
    "    \n",
    "test_abandonos_por_sector()\n"
   ]
  }
 ],
 "metadata": {
  "kernelspec": {
   "display_name": "Python 3",
   "language": "python",
   "name": "python3"
  },
  "language_info": {
   "codemirror_mode": {
    "name": "ipython",
    "version": 3
   },
   "file_extension": ".py",
   "mimetype": "text/x-python",
   "name": "python",
   "nbconvert_exporter": "python",
   "pygments_lexer": "ipython3",
   "version": "3.7.5"
  }
 },
 "nbformat": 4,
 "nbformat_minor": 2
}
